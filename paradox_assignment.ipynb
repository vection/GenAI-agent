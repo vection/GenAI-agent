{
 "cells": [
  {
   "cell_type": "markdown",
   "id": "3313613c",
   "metadata": {},
   "source": [
    "# Paradox Home Assignment\n",
    "Aviv Harazi\n",
    "\n",
    "The assignment splits to two parts:\n",
    "1. Generation of fictional GenAI Summer Camp \n",
    "2. Building LLM Assistant Agent \n",
    "\n",
    "\n",
    "### Generation of fictional GenAI Summer Camp \n",
    "First, I made a template for the program and what it should have.\n",
    "This template has a few keys: campName, description, offerings, values, policies, location, dates, pricing, contact, highlights, conclusion.\n",
    "\n",
    "Once I had the template, the process of creating content happens in four steps. Each step works on certain parts from the template to get more words.\n",
    "All these four steps run together and then come together at the end.\n",
    "The final result is in the form of a dictionary, which is easier to work with.\n",
    "I also designed an enhancement function with the aim of generating more words and enriching the text.\n",
    "The final output is dictionary filled with correct information.\n",
    "\n",
    "### Building LLM Assistant Agent \n",
    "I employed Langchain to establish an Agent that utilizes custom tools, granting us the capability to carry out actions. The Agent determines which tool to employ based on the input and tool descriptions available.\n",
    "\n",
    "I developed a few tools:\n",
    "\n",
    "* Register Application Tool: When a parent expresses interest in registering, this tool activates the registration process. It collects parent names, phone numbers, emails, and child ages, and validates the age against camp details. Each application is saved in dictionary format.\n",
    "\n",
    "* Answer Pricing or Age-Related Questions: For questions related to pricing or age, the Agent employs a GPT model with pertinent pricing and age information derived from camp details.\n",
    "\n",
    "* Answer Policies and Location Questions: In response to queries regarding policies, location or dates, the Agent employs a GPT model with relevant details from camp information.\n",
    "\n",
    "* Answer General Questions: If queries are general or require more information, the Agent employs a GPT model using pertinent information from camp details.\n",
    "\n",
    "* Finish Process: If there are no further actions required, the process is concluded.\n",
    "\n",
    "\n",
    "## How to run? \n",
    "* Open the notebook via jupyter notebook / google collab\n",
    "* Install the required libraries \n",
    "* Set the API key in openai.api_key parameter \n",
    "* use agent.run() examples to add and check more scenarios."
   ]
  },
  {
   "cell_type": "code",
   "execution_count": 22,
   "id": "7ea7cc2e",
   "metadata": {
    "scrolled": true
   },
   "outputs": [
    {
     "name": "stdout",
     "output_type": "stream",
     "text": [
      "Requirement already satisfied: openai==0.27.2 in /home/aviv/anaconda3/lib/python3.9/site-packages (0.27.2)\n",
      "Requirement already satisfied: tqdm in /home/aviv/anaconda3/lib/python3.9/site-packages (from openai==0.27.2) (4.64.1)\n",
      "Requirement already satisfied: requests>=2.20 in /home/aviv/anaconda3/lib/python3.9/site-packages (from openai==0.27.2) (2.28.1)\n",
      "Requirement already satisfied: aiohttp in /home/aviv/anaconda3/lib/python3.9/site-packages (from openai==0.27.2) (3.8.4)\n",
      "Requirement already satisfied: idna<4,>=2.5 in /home/aviv/anaconda3/lib/python3.9/site-packages (from requests>=2.20->openai==0.27.2) (3.3)\n",
      "Requirement already satisfied: certifi>=2017.4.17 in /home/aviv/anaconda3/lib/python3.9/site-packages (from requests>=2.20->openai==0.27.2) (2022.9.14)\n",
      "Requirement already satisfied: charset-normalizer<3,>=2 in /home/aviv/anaconda3/lib/python3.9/site-packages (from requests>=2.20->openai==0.27.2) (2.0.4)\n",
      "Requirement already satisfied: urllib3<1.27,>=1.21.1 in /home/aviv/anaconda3/lib/python3.9/site-packages (from requests>=2.20->openai==0.27.2) (1.26.11)\n",
      "Requirement already satisfied: async-timeout<5.0,>=4.0.0a3 in /home/aviv/anaconda3/lib/python3.9/site-packages (from aiohttp->openai==0.27.2) (4.0.2)\n",
      "Requirement already satisfied: aiosignal>=1.1.2 in /home/aviv/anaconda3/lib/python3.9/site-packages (from aiohttp->openai==0.27.2) (1.3.1)\n",
      "Requirement already satisfied: frozenlist>=1.1.1 in /home/aviv/anaconda3/lib/python3.9/site-packages (from aiohttp->openai==0.27.2) (1.3.3)\n",
      "Requirement already satisfied: yarl<2.0,>=1.0 in /home/aviv/anaconda3/lib/python3.9/site-packages (from aiohttp->openai==0.27.2) (1.8.2)\n",
      "Requirement already satisfied: multidict<7.0,>=4.5 in /home/aviv/anaconda3/lib/python3.9/site-packages (from aiohttp->openai==0.27.2) (6.0.4)\n",
      "Requirement already satisfied: attrs>=17.3.0 in /home/aviv/anaconda3/lib/python3.9/site-packages (from aiohttp->openai==0.27.2) (21.4.0)\n",
      "Requirement already satisfied: numpy in /home/aviv/anaconda3/lib/python3.9/site-packages (1.25.2)\n",
      "Collecting langchain==0.0.270\n",
      "  Using cached langchain-0.0.270-py3-none-any.whl (1.5 MB)\n",
      "Requirement already satisfied: numexpr<3.0.0,>=2.8.4 in /home/aviv/anaconda3/lib/python3.9/site-packages (from langchain==0.0.270) (2.8.4)\n",
      "Requirement already satisfied: aiohttp<4.0.0,>=3.8.3 in /home/aviv/anaconda3/lib/python3.9/site-packages (from langchain==0.0.270) (3.8.4)\n",
      "Requirement already satisfied: pydantic<3,>=1 in /home/aviv/anaconda3/lib/python3.9/site-packages (from langchain==0.0.270) (1.10.7)\n",
      "Requirement already satisfied: tenacity<9.0.0,>=8.1.0 in /home/aviv/anaconda3/lib/python3.9/site-packages (from langchain==0.0.270) (8.2.2)\n",
      "Requirement already satisfied: numpy<2,>=1 in /home/aviv/anaconda3/lib/python3.9/site-packages (from langchain==0.0.270) (1.25.2)\n",
      "Requirement already satisfied: requests<3,>=2 in /home/aviv/anaconda3/lib/python3.9/site-packages (from langchain==0.0.270) (2.28.1)\n",
      "Requirement already satisfied: langsmith<0.1.0,>=0.0.21 in /home/aviv/anaconda3/lib/python3.9/site-packages (from langchain==0.0.270) (0.0.25)\n",
      "Requirement already satisfied: async-timeout<5.0.0,>=4.0.0 in /home/aviv/anaconda3/lib/python3.9/site-packages (from langchain==0.0.270) (4.0.2)\n",
      "Requirement already satisfied: SQLAlchemy<3,>=1.4 in /home/aviv/anaconda3/lib/python3.9/site-packages (from langchain==0.0.270) (1.4.39)\n",
      "Requirement already satisfied: PyYAML>=5.3 in /home/aviv/anaconda3/lib/python3.9/site-packages (from langchain==0.0.270) (6.0)\n",
      "Requirement already satisfied: dataclasses-json<0.6.0,>=0.5.7 in /home/aviv/anaconda3/lib/python3.9/site-packages (from langchain==0.0.270) (0.5.7)\n",
      "Requirement already satisfied: attrs>=17.3.0 in /home/aviv/anaconda3/lib/python3.9/site-packages (from aiohttp<4.0.0,>=3.8.3->langchain==0.0.270) (21.4.0)\n",
      "Requirement already satisfied: aiosignal>=1.1.2 in /home/aviv/anaconda3/lib/python3.9/site-packages (from aiohttp<4.0.0,>=3.8.3->langchain==0.0.270) (1.3.1)\n",
      "Requirement already satisfied: frozenlist>=1.1.1 in /home/aviv/anaconda3/lib/python3.9/site-packages (from aiohttp<4.0.0,>=3.8.3->langchain==0.0.270) (1.3.3)\n",
      "Requirement already satisfied: yarl<2.0,>=1.0 in /home/aviv/anaconda3/lib/python3.9/site-packages (from aiohttp<4.0.0,>=3.8.3->langchain==0.0.270) (1.8.2)\n",
      "Requirement already satisfied: charset-normalizer<4.0,>=2.0 in /home/aviv/anaconda3/lib/python3.9/site-packages (from aiohttp<4.0.0,>=3.8.3->langchain==0.0.270) (2.0.4)\n",
      "Requirement already satisfied: multidict<7.0,>=4.5 in /home/aviv/anaconda3/lib/python3.9/site-packages (from aiohttp<4.0.0,>=3.8.3->langchain==0.0.270) (6.0.4)\n",
      "Requirement already satisfied: typing-inspect>=0.4.0 in /home/aviv/anaconda3/lib/python3.9/site-packages (from dataclasses-json<0.6.0,>=0.5.7->langchain==0.0.270) (0.9.0)\n",
      "Requirement already satisfied: marshmallow-enum<2.0.0,>=1.5.1 in /home/aviv/anaconda3/lib/python3.9/site-packages (from dataclasses-json<0.6.0,>=0.5.7->langchain==0.0.270) (1.5.1)\n",
      "Requirement already satisfied: marshmallow<4.0.0,>=3.3.0 in /home/aviv/anaconda3/lib/python3.9/site-packages (from dataclasses-json<0.6.0,>=0.5.7->langchain==0.0.270) (3.19.0)\n",
      "Requirement already satisfied: typing-extensions>=4.2.0 in /home/aviv/anaconda3/lib/python3.9/site-packages (from pydantic<3,>=1->langchain==0.0.270) (4.3.0)\n",
      "Requirement already satisfied: urllib3<1.27,>=1.21.1 in /home/aviv/anaconda3/lib/python3.9/site-packages (from requests<3,>=2->langchain==0.0.270) (1.26.11)\n",
      "Requirement already satisfied: certifi>=2017.4.17 in /home/aviv/anaconda3/lib/python3.9/site-packages (from requests<3,>=2->langchain==0.0.270) (2022.9.14)\n",
      "Requirement already satisfied: idna<4,>=2.5 in /home/aviv/anaconda3/lib/python3.9/site-packages (from requests<3,>=2->langchain==0.0.270) (3.3)\n",
      "Requirement already satisfied: greenlet!=0.4.17 in /home/aviv/anaconda3/lib/python3.9/site-packages (from SQLAlchemy<3,>=1.4->langchain==0.0.270) (2.0.2)\n",
      "Requirement already satisfied: packaging>=17.0 in /home/aviv/anaconda3/lib/python3.9/site-packages (from marshmallow<4.0.0,>=3.3.0->dataclasses-json<0.6.0,>=0.5.7->langchain==0.0.270) (21.3)\n",
      "Requirement already satisfied: mypy-extensions>=0.3.0 in /home/aviv/anaconda3/lib/python3.9/site-packages (from typing-inspect>=0.4.0->dataclasses-json<0.6.0,>=0.5.7->langchain==0.0.270) (0.4.3)\n",
      "Requirement already satisfied: pyparsing!=3.0.5,>=2.0.2 in /home/aviv/anaconda3/lib/python3.9/site-packages (from packaging>=17.0->marshmallow<4.0.0,>=3.3.0->dataclasses-json<0.6.0,>=0.5.7->langchain==0.0.270) (3.0.9)\n",
      "Installing collected packages: langchain\n",
      "  Attempting uninstall: langchain\n",
      "    Found existing installation: langchain 0.0.27\n",
      "    Uninstalling langchain-0.0.27:\n",
      "      Successfully uninstalled langchain-0.0.27\n",
      "Successfully installed langchain-0.0.270\n"
     ]
    }
   ],
   "source": [
    "# required libraries if not installed\n",
    "!pip install openai==0.27.2\n",
    "!pip install numpy\n",
    "!pip install langchain==0.0.270"
   ]
  },
  {
   "cell_type": "code",
   "execution_count": 1,
   "id": "65dd591e",
   "metadata": {},
   "outputs": [],
   "source": [
    "# imports\n",
    "import openai\n",
    "import os\n",
    "import numpy as np\n",
    "import ast\n",
    "import time\n",
    "from multiprocessing.pool import ThreadPool\n",
    "import multiprocessing\n",
    "from langchain.agents import Tool\n",
    "from langchain.agents import AgentType\n",
    "from langchain import OpenAI\n",
    "from langchain.agents import initialize_agent\n",
    "openai.api_key = 'API_KEY_HERE'"
   ]
  },
  {
   "cell_type": "markdown",
   "id": "7ae577b9",
   "metadata": {},
   "source": [
    "# Generation of fictional GenAI Summer Camp"
   ]
  },
  {
   "cell_type": "code",
   "execution_count": 2,
   "id": "f4dcaee0",
   "metadata": {},
   "outputs": [],
   "source": [
    "## main prompts in dict\n",
    "db_prompts = {\n",
    "    \"generate_camp_stage1\": \"\"\"Create the introduction and offerings section (~1500 words) for a fictional summer camp called \"GenAI Summer Camp.\" Craft an engaging description that introduces the camp's concept and its various offerings. The offerings should cover a range of activities such as AI workshops, creative coding, robotics exploration, virtual reality adventures, ethics and AI discussions, innovative app development, and tech and nature fusion. Aim for clarity, excitement, and creativity in your description. Provide enough detail to make each offering enticing while maintaining an engaging tone.\n",
    "Put this message in the following JSON structure:\n",
    "{\n",
    "  \"campName\": \"..\",\n",
    "  \"description\": \"..\",\n",
    "  \"offerings\": [\n",
    "    {\n",
    "      \"title\": \"..\",\n",
    "      \"description\": \"..\"\n",
    "    },\n",
    "    {\n",
    "      \"title\": \"..\",\n",
    "      \"description\": \"..\"\n",
    "    },\n",
    "    ...\n",
    "  ]\n",
    "}\n",
    "\"\"\",\n",
    "    \n",
    "    \"generate_camp_stage2\": \"\"\"Create the section that outlines the camp's values, policies, and location (~1600 words). Describe the core values such as curiosity, collaboration, responsibility, and inclusivity. Provide succinct explanations for each policy, including safety first, respectful behavior, zero tolerance for bullying, and parental engagement. Offer a brief description of the camp's location, emphasizing its natural beauty and suitability for learning.\n",
    "Put this message in the following JSON structure:\n",
    "{\n",
    "  \"values\": [\n",
    "    \"\"\n",
    "  ],\n",
    "  \"policies\": [\n",
    "    {\n",
    "      \"title\": \"..\",\n",
    "      \"description\": \"..\",\n",
    "      \"importance\": \"..\"\n",
    "    },\n",
    "    {\n",
    "      \"title\": \"..\",\n",
    "      \"description\": \"..\",\n",
    "      \"importance\": \"..\"\n",
    "    },\n",
    "    {\n",
    "      \"title\": \"..\",\n",
    "      \"description\": \"..\",\n",
    "      \"importance\": \"..\"\n",
    "    },\n",
    "    ...\n",
    "  ],\n",
    "  \"location\": {\n",
    "    \"name\": \"..\",\n",
    "    \"description\": \"..\"\n",
    "  }\n",
    "}\n",
    "\"\"\",\n",
    "    \"generate_camp_stage3\": \"\"\"Craft the section that covers camp dates, pricing, and contact details (~1500 words). Provide the start and end dates of the camp along with its duration. Outline the pricing structure for different age ranges, including early bird and regular prices. Include the camp's contact information, including email and phone number.\n",
    "Put this message in the following JSON structure:\n",
    "{\n",
    "  \"dates\": {\n",
    "    \"start\": \"..\",\n",
    "    \"end\": \"..\",\n",
    "    \"duration\": \"..\"\n",
    "  },\n",
    "  \"pricing\": [\n",
    "    {\n",
    "      \"ageRange\": \"..\",\n",
    "      \"earlyBirdPrice\": .. ,\n",
    "      \"regularPrice\": ..\n",
    "    },\n",
    "    {\n",
    "      \"ageRange\": \"..\",\n",
    "      \"earlyBirdPrice\":.. ,\n",
    "      \"regularPrice\": .. \n",
    "    },\n",
    "    {\n",
    "      \"ageRange\": \"..\",\n",
    "      \"earlyBirdPrice\":.. ,\n",
    "      \"regularPrice\": .. \n",
    "    },\n",
    "  ],\n",
    "  \"contact\": {\n",
    "    \"email\": \"..\",\n",
    "    \"phone\": \"..\"\n",
    "  }\n",
    "}\n",
    "\"\"\",\n",
    "    \n",
    "    \"generate_camp_stage4\" : \"\"\"Create the section that highlights the key features of the camp and provides a concluding statement (~1200 words). List the highlights, such as hands-on AI workshops, innovative tech and arts fusion, thrilling robotics challenges, immersive VR experiences, ethics discussions, tech and nature explorations, and emphasis on safety, respect, and inclusivity. Wrap up the description with an encouraging closing statement inviting potential campers to join the exciting journey.\n",
    "Put this message in the following JSON structure:\n",
    "{\n",
    "  \"highlights\": [\n",
    "    \"..\",\n",
    "    \"..\",\n",
    "    ...\n",
    "  ],\n",
    "  \"conclusion\" : \"..\"\n",
    "}\n",
    "\"\"\",\n",
    "    \"enhance_prompt\": \"Your job is to get JSON format input and double the size of word count for each value. the text need to be richer and in more detail. raise the number of total words. return the your final output as JSON without word count key.\"\n",
    "}"
   ]
  },
  {
   "cell_type": "code",
   "execution_count": 3,
   "id": "7d30fcdf",
   "metadata": {},
   "outputs": [],
   "source": [
    "# functions to generate the GenAI Summer Camp details\n",
    "def send_request(myprompt,temperature=0.95,max_tokens=1200,model_name=\"text-davinci-003\",parse=True,enhance=True):\n",
    "    \"\"\"\n",
    "    Sends a completion request to OpenAI's API using the specified prompt and arguments.\n",
    "\n",
    "    Args:\n",
    "        myprompt (str): The prompt for generating the completion.\n",
    "        temperature (float, optional): Sampling temperature for randomness. Defaults to 0.95.\n",
    "        max_tokens (int, optional): The maximum number of tokens in the generated output. Defaults to 1200.\n",
    "        model_name (str, optional): The name of the OpenAI model to use. Defaults to \"text-davinci-003\".\n",
    "        parse (bool, optional): Whether to parse the generated response as a Python literal using ast.literal_eval().\n",
    "                               Defaults to True.\n",
    "        enhance (bool, optional): Whether to enhance the response using the `enhance_request` function if the length of\n",
    "                                 the response is less than half of max_tokens. Defaults to True.\n",
    "\n",
    "    Returns:\n",
    "        str: The generated response text.\n",
    "    \"\"\"\n",
    "    res = None\n",
    "    try:\n",
    "        response = openai.Completion.create(\n",
    "              model=model_name,\n",
    "              prompt=myprompt,\n",
    "              temperature=temperature,\n",
    "              max_tokens=max_tokens,\n",
    "            )\n",
    "        \n",
    "        res = response[\"choices\"][0][\"text\"]\n",
    "        if parse:\n",
    "            res = ast.literal_eval(res)\n",
    "        \n",
    "        if enhance and len(str(res).split(\" \")) < max_tokens/2:\n",
    "            res = enhance_request(str(res))\n",
    "            \n",
    "        return res\n",
    "            \n",
    "    except Exception as e:\n",
    "        print(e)\n",
    "        return send_request(myprompt,temperature,max_tokens,model_name,parse,enhance)\n",
    "    \n",
    "\n",
    "def enhance_request(req,model_name=\"gpt-3.5-turbo\"):\n",
    "    \"\"\"\n",
    "    Enhances a given request using a ChatCompletion model.\n",
    "\n",
    "    Args:\n",
    "        req (str): The request to be enhanced.\n",
    "        model_name (str, optional): The name of the OpenAI model to use. Defaults to \"gpt-3.5-turbo\".\n",
    "\n",
    "    Returns:\n",
    "        str: The enhanced response text.\n",
    "    \"\"\"\n",
    "    try:\n",
    "        response = openai.ChatCompletion.create(\n",
    "              model=model_name,\n",
    "              messages=[\n",
    "                      {\"role\": \"system\", \"content\": db_prompts['enhance_prompt']},\n",
    "                      {\"role\": \"user\", \"content\": req}\n",
    "                    ],\n",
    "              temperature=0.95,\n",
    "\n",
    "            )\n",
    "\n",
    "        text = response[\"choices\"][0][\"message\"][\"content\"]\n",
    "    \n",
    "\n",
    "        return ast.literal_eval(text)\n",
    "    except Exception as e:\n",
    "        print(e)\n",
    "        return enhance_request(req,model_name)\n",
    "    \n",
    "        \n",
    "def process_request(params):\n",
    "    \"\"\"\n",
    "    Processes a request using the send_request function (wrapper for multiprocessing usage)\n",
    "\n",
    "    Args:\n",
    "        params (tuple): A tuple containing the prompt, temperature, and max_tokens.\n",
    "\n",
    "    Returns:\n",
    "        str: The generated response text.\n",
    "    \"\"\"\n",
    "    prompt, temperature, max_tokens = params\n",
    "    return send_request(prompt, temperature, max_tokens)\n",
    "\n",
    "    \n",
    "def generate_camp():\n",
    "    \"\"\"\n",
    "    Generates GenAI summer camp details in parallel\n",
    "\n",
    "    Returns:\n",
    "        dict: A dictionary containing generated response\n",
    "    \"\"\"\n",
    "    final_res = {}\n",
    "    # list of prompts with specific arguments for each\n",
    "    all_prompts = [(db_prompts['generate_camp_stage1'],0.5,3700),(db_prompts['generate_camp_stage2'], 0.5,3700),(db_prompts['generate_camp_stage3'],0.5,3700),(db_prompts['generate_camp_stage4'],0.5,3500)]\n",
    "    \n",
    "    # pool of threads\n",
    "    with ThreadPool(processes=len(all_prompts)) as pool:\n",
    "        results = pool.map(process_request, all_prompts)\n",
    "        \n",
    "    \n",
    "    # update the base dict\n",
    "    [final_res.update(res) for res in results]\n",
    "    \n",
    "    return final_res\n",
    "    "
   ]
  },
  {
   "cell_type": "code",
   "execution_count": 4,
   "id": "a1ff887c",
   "metadata": {
    "scrolled": true
   },
   "outputs": [],
   "source": [
    "# generate camp details\n",
    "camp_details = generate_camp()"
   ]
  },
  {
   "cell_type": "code",
   "execution_count": 5,
   "id": "50cc97cb",
   "metadata": {},
   "outputs": [
    {
     "data": {
      "text/plain": [
       "{'campName': 'GenAI Summer Camp',\n",
       " 'description': \"Welcome to GenAI Summer Camp – come join us on an exciting and educational adventure as we explore the endless possibilities of modern technology! We offer a wide range of engaging and thought-provoking activities that combine the thrill of creative coding, immersive robotics exploration, mind-blowing virtual reality experiences, and innovative app development with in-depth discussions on the ethical implications of artificial intelligence. At GenAI Summer Camp, you'll not only learn new skills and discover cutting-edge technologies, but you'll also make lifelong friendships and create unforgettable memories through our groundbreaking programs. Get ready for an unforgettable summer filled with groundbreaking advancements in AI, enlightening conversations, and the opportunity to push the boundaries of what you once believed to be possible. Don't miss out - sign up now and prepare to embark on an extraordinary journey into the world of AI!\",\n",
       " 'offerings': [{'title': 'AI Workshops',\n",
       "   'description': \"Unlock your full potential at GenAI Summer Camp by immersing yourself in our interactive and dynamic AI workshops. Here, you'll delve deep into the fundamentals of AI and explore the vast realm of Artificial Intelligence - from mastering complex machine learning algorithms and deep neural networks to unraveling the mysteries of natural language processing and cutting-edge computer vision. With hands-on experience in data analytics, you'll uncover hidden patterns and gain valuable insights that will empower you to create exciting and groundbreaking projects such as sentiment analysis and classification. By the end of our AI Workshops, you'll possess the skills to design and develop your very own AI applications while fully understanding the profound implications of utilizing this transformative technology.\"},\n",
       "  {'title': 'Creative Coding',\n",
       "   'description': \"Immerse yourself in the captivating world of creative coding and unlock your limitless creative potential. Through our Creative Coding classes, you'll learn to harness the power of different coding languages and platforms to bring your wildest ideas to life. With personalized guidance from our expert instructors, you'll embark on thrilling projects like designing your own cutting-edge game, creating innovative applications that push technological boundaries, crafting mesmerizing interactive art pieces, and much more. Whether you're an aspiring artist, designer, or simply someone with an adventurous mind, our Creative Coding classes are tailor-made for you. Get ready to transform your ideas into tangible masterpieces that will leave a lasting impact!\"},\n",
       "  {'title': 'Robotics Exploration',\n",
       "   'description': \"Unleash your inner engineer and embark on an awe-inspiring journey through the captivating world of robotics. Our Robotics Exploration program will equip you with essential hands-on skills and knowledge to tackle some of society's biggest challenges. Start by mastering the basics, from soldering to programming, and gradually dive deeper into the intricacies of designing and programming your very own robots. With the help of experienced robotics instructors, you'll have the opportunity to create your own functional robot arm and utilize it to build something truly remarkable. Armed with a wide range of cutting-edge tools and materials, you'll gain invaluable experience in building and programming robotics projects using your own two hands. Get ready to take home an incredible project that will leave everyone in awe!\"},\n",
       "  {'title': 'Virtual Reality Adventures',\n",
       "   'description': \"Step into the mind-bending universe of virtual reality and witness firsthand its breathtaking potential to transcend the limitations of physical reality. Explore a world where imagination knows no boundaries and embark on sensational adventures that defy the laws of nature. Through state-of-the-art hardware and advanced software, you'll create immersive virtual experiences that connect human beings like never before. Dive into the captivating realm of 3D image creation, craft your very own mesmerizing game design, embark on virtual tourism like never before, and let your creativity soar to unprecedented heights. Discover the revolutionary power of virtual reality and embrace this groundbreaking technology that offers a unique and unparalleled perspective on life itself!\"},\n",
       "  {'title': 'Ethics & AI Discussions',\n",
       "   'description': \"Engage in intellectually stimulating and thought-provoking discussions with fellow campers through our interactive platform of ethical debates on Artificial Intelligence. Delve into the profound implications of AI and explore the far-reaching consequences it holds for our modern world. Gain valuable insights into the positive aspects of technology while shedding light on the ethical considerations that come hand in hand with employing intelligent algorithms. As an added bonus, you'll also have the opportunity to sharpen your debate skills and effectively communicate your thoughts and ideas to your peers. This invaluable skill will prove invaluable in future communication situations, allowing you to build compelling arguments backed by reason and express yourself with utmost clarity. Don't miss out on this extraordinary opportunity to deepen your understanding of Artificial Intelligence, engage in meaningful conversations, and broaden your horizons!\"},\n",
       "  {'title': 'Innovative App Development',\n",
       "   'description': \"Unleash your inner innovator and design your very own groundbreaking application that has the power to change the world. Our Innovative App Development workshops will arm you with the necessary coding and design skills to create collaborative projects that transcend borders and make a lasting impact. Collaborate with a team of like-minded individuals and generate creative ideas that are validated by real users. Utilize the insights gained throughout our workshops to build sustainable, user-friendly mobile applications that possess the potential to revolutionize various aspects of life on a global scale. And the most exciting part? We'll provide you with a platform to showcase the remarkable app you've developed at the end of the camp. It's your time to shine and make a difference!\"},\n",
       "  {'title': 'Tech & Nature Fusion',\n",
       "   'description': \"Embark on an extraordinary exploration of the fascinating intersection between technology and nature and discover how they can be seamlessly merged to create incredible projects that solve real-world problems. Witness the awe-inspiring potential of this fusion and explore the endless possibilities that arise when nature serves as a blueprint for technological innovations. Our Tech & Nature Fusion program offers you the opportunity to venture into breathtaking natural environments where you'll work with state-of-the-art equipment such as drones and underwater robots. Immerse yourself in the stunning beauty of nature as you discuss the environmental and societal implications of this groundbreaking technology. Prepare yourself for an unforgettable experience that will forever change the way you view the world!\"}],\n",
       " 'values': ['Curiosity', 'Collaboration', 'Responsibility', 'Inclusivity'],\n",
       " 'policies': [{'title': 'Safety First',\n",
       "   'description': 'The safety and wellbeing of our campers is our highest priority. We prioritize and take active steps to maintain a safe and secure environment. Our experienced and trained staff members are vigilant in ensuring that all camp activities are conducted with caution and care. We regularly assess and update our safety protocols to meet the highest standards. From frequent safety drills to comprehensive risk assessments, we leave no stone unturned when it comes to safeguarding our campers.',\n",
       "   'importance': 'Essential'},\n",
       "  {'title': 'Respectful Behavior',\n",
       "   'description': 'We expect our campers to treat everyone with respect and kindness. We do not tolerate verbal or physical abuse, or any other kind of bullying. Our camp promotes a positive and inclusive environment where campers are encouraged to embrace diversity and appreciate differences. We strongly believe that respectful behavior fosters a sense of belonging and creates a supportive community. Our dedicated staff members serve as role models and actively promote respectful interactions among campers.',\n",
       "   'importance': 'Essential'},\n",
       "  {'title': 'Zero Tolerance for Bullying',\n",
       "   'description': 'Bullying of any kind will not be tolerated at our camp. We have a zero-tolerance policy when it comes to bullying, and we take immediate and decisive action against any instances of bullying. Our staff members undergo comprehensive training to identify and prevent bullying behavior. We actively educate campers about the impact of bullying and empower them with the tools to stand up against it. Our goal is to cultivate a safe and inclusive environment where campers can thrive and grow without fear of bullying.',\n",
       "   'importance': 'Essential'},\n",
       "  {'title': 'Parental Engagement',\n",
       "   'description': \"We deeply appreciate the support of parents in our camp's activities. We believe that parental engagement plays a crucial role in a child's overall development. We actively encourage parents to participate in camp events, workshops, and family activities. We value the involvement of parents in their children's education and growth. Our camp provides regular communication channels to keep parents informed about their child's progress and experiences. We believe that a strong partnership between parents and our camp creates a nurturing and enriching environment for campers.\",\n",
       "   'importance': 'Valuable'}],\n",
       " 'location': {'name': 'Camp Discovery',\n",
       "  'description': 'Camp Discovery is nestled amidst the breathtaking lush forests of the Pacific Northwest. Surrounded by towering evergreen pines, majestic mountains, and crystal clear streams, it offers a truly picturesque and awe-inspiring setting for learning, exploration, and growth. Every step within our camp is a journey into the enchanting world of nature, where campers can discover the wonders of the wilderness and forge a deep connection with the natural world. Our carefully curated outdoor spaces provide endless opportunities for adventure, imagination, and hands-on learning. With nature as our guide, Camp Discovery is an oasis of serenity and a gateway to endless possibilities.'},\n",
       " 'dates': {'start': 'September 3, 2020',\n",
       "  'end': 'October 5, 2020',\n",
       "  'duration': '5 weeks'},\n",
       " 'pricing': [{'ageRange': '5-7 years old',\n",
       "   'earlyBirdPrice': 700,\n",
       "   'regularPrice': 800},\n",
       "  {'ageRange': '8-11 years old', 'earlyBirdPrice': 1000, 'regularPrice': 1200},\n",
       "  {'ageRange': '12-15 years old',\n",
       "   'earlyBirdPrice': 1400,\n",
       "   'regularPrice': 1600}],\n",
       " 'contact': {'email': 'email@example.com', 'phone': '+123456789'},\n",
       " 'highlights': ['Hands-on AI workshops - Our campers get the amazing opportunity to experiment and play with the newest AI technologies in our guided, interactive, and immersive hands-on workshops. These workshops provide a safe and supportive environment for campers to explore and unleash their creativity while learning about the fascinating world of AI. Through exciting AI experiments and projects, campers will gain a deeper understanding of the potential applications and impact of AI in various fields and industries.',\n",
       "  'Innovative Tech and Arts Fusion - At Tech4Nature, we believe in the power of blending technology and art to create unique and thought-provoking experiences. In our interactive sessions and collaborative projects, campers will be challenged to combine their technical skills with their artistic talents. They will have the opportunity to create amazing things, explore innovative ideas, and work together to solve interesting and complex problems. This fusion of tech and art will not only stimulate their creativity but also broaden their horizons and inspire their imaginations.',\n",
       "  'Thrilling Robotics Challenges - Led by experienced and dedicated robotics teachers, our campers embark on an exhilarating journey into the world of robotics. They will face a variety of exciting and stimulating robotics challenges that will test their problem-solving skills, unleash their creativity, and encourage them to think outside the box. From designing and building robots to programming them to perform complex tasks, campers will experience the thrill of bringing their creations to life. These hands-on activities will not only enhance their technical knowledge but also cultivate their teamwork and collaboration skills.',\n",
       "  'Immersive VR Experiences - Step into the awe-inspiring world of virtual reality at Tech4Nature! Our campers will be transported to different virtual worlds, where they can explore, interact, and learn in a truly immersive and engaging environment. Equipped with cutting-edge VR technology and guided by knowledgeable instructors, campers will not only experience the wonders of VR but also learn about the educational potential of this exciting technology. They will have the opportunity to discover new tools, create their own VR projects, and delve into the endless possibilities that VR offers.',\n",
       "  'Ethics Discussions - In this rapidly evolving technological era, it is essential for our campers to develop a deep understanding of the ethical and moral implications associated with emerging technologies. Through engaging and thought-provoking dialogue sessions, campers will explore the ethical considerations raised by AI and robotics. They will develop critical thinking skills and expand their awareness of the potential impacts of these technologies on society, ensuring that they are well-equipped to make responsible and informed decisions in the future.',\n",
       "  'Tech and Nature Explorations - At Tech4Nature, we recognize the importance of bridging the gap between technology and nature. Our campers will have the opportunity to embark on exciting expeditions that combine tech and nature-focused knowledge. They will learn how to integrate their technical skills with a deep understanding of the natural world to create meaningful and sustainable projects. From designing eco-friendly solutions to using technology to protect and preserve the environment, campers will uncover innovative ways to positively impact our planet.',\n",
       "  'Emphasis on Safety, Respect, and Inclusivity - We are committed to creating a warm, welcoming, and inclusive environment for all our campers. Safety is our top priority, and we provide a nurturing and supportive space where campers can freely express themselves and explore their passions. We foster open dialogue, collaboration, and respect for diverse perspectives, ensuring that every camper feels valued and included. Our camp is a place where friendships are formed, ideas are shared, and lifelong memories are created.'],\n",
       " 'conclusion': \"At Tech4Nature, we offer an unparalleled camp experience that allows campers to delve into the exciting realm of cutting-edge technologies. Our curriculum is designed to ignite campers' curiosity and empower them to think critically, creatively, and innovatively. Through our hands-on AI, robotics, and virtual reality workshops, campers will gain invaluable skills, insights, and knowledge that will prepare them for the future. We provide a conducive environment where campers can explore their interests, collaborate with like-minded peers, and discover their true potential. Join us on this exhilarating journey and unlock the boundless possibilities of technology!\"}"
      ]
     },
     "execution_count": 5,
     "metadata": {},
     "output_type": "execute_result"
    }
   ],
   "source": [
    "camp_details"
   ]
  },
  {
   "cell_type": "markdown",
   "id": "f44c8e25",
   "metadata": {},
   "source": [
    "# Building LLM Assistant Agent"
   ]
  },
  {
   "cell_type": "code",
   "execution_count": 6,
   "id": "9395593f",
   "metadata": {},
   "outputs": [],
   "source": [
    "## Register Application form\n",
    "application_form = {\n",
    "    'parents_full_names' : \"\",\n",
    "    'parents_phone_number' : \"\",\n",
    "    'email' : \"\",\n",
    "    'kid_age': \"\"  \n",
    "}\n",
    "all_applications = []"
   ]
  },
  {
   "cell_type": "code",
   "execution_count": 7,
   "id": "70edc1d2",
   "metadata": {},
   "outputs": [],
   "source": [
    "# tools functions\n",
    "def answer_pricing_age_questions(text):\n",
    "    \"\"\"\n",
    "    Generates responses to pricing and age-related questions.\n",
    "\n",
    "    Args:\n",
    "        text (str): The question text.\n",
    "\n",
    "    Returns:\n",
    "        str: The generated response.\n",
    "    \"\"\"\n",
    "    global camp_details\n",
    "    myprompt = f\"\"\"Answer the question based on the following GenAI Summer camp details in dictionary: age express as range, early price as number and regular price as number:\n",
    "    {camp_details['pricing']}\n",
    "    \n",
    "    Question:\n",
    "    {text}\n",
    "    \"\"\"\n",
    "    res = send_request(myprompt,temperature=0,max_tokens=None,parse=False,enhance=False)\n",
    "    \n",
    "    return res\n",
    "\n",
    "\n",
    "def answer_general_questions(text):\n",
    "    \"\"\"\n",
    "    Generates responses to general questions about the camp.\n",
    "\n",
    "    Args:\n",
    "        text (str): The question text.\n",
    "\n",
    "    Returns:\n",
    "        str: The generated response.\n",
    "    \"\"\"\n",
    "    global camp_details\n",
    "    temp_dict = {key: camp_details[key] for key in ['description','offerings','highlights','values','conclusion']}\n",
    "    myprompt = f\"\"\"Answer the question based on the following GenAI Summer camp details in dictionary:\n",
    "    {temp_dict}\n",
    "    \n",
    "    Question:\n",
    "    {text}\n",
    "    \"\"\"\n",
    "    res = send_request(myprompt,temperature=0,max_tokens=None,parse=False,enhance=False)\n",
    "    \n",
    "    return res\n",
    "\n",
    "def answer_policies_location_questions(text):\n",
    "    \"\"\"\n",
    "    Generates responses to questions about policies and location.\n",
    "\n",
    "    Args:\n",
    "        text (str): The question text.\n",
    "\n",
    "    Returns:\n",
    "        str: The generated response.\n",
    "    \"\"\"\n",
    "    global camp_details\n",
    "    temp_dict = {key: camp_details[key] for key in ['policies','location','dates']}\n",
    "    myprompt = f\"\"\"Answer the question based on the following GenAI Summer camp details in dictionary:\n",
    "    {temp_dict}\n",
    "    \n",
    "    Question:\n",
    "    {text}\n",
    "    \"\"\"\n",
    "    res = send_request(myprompt,temperature=0,max_tokens=None,parse=False,enhance=False)\n",
    "    \n",
    "    return res\n",
    "\n",
    "\n",
    "def start_application(text):\n",
    "    \"\"\"\n",
    "    Initiates the registration process for the GenAI summer camp.\n",
    "\n",
    "    Args:\n",
    "        text (str): The initial text.\n",
    "\n",
    "    Returns:\n",
    "        dict or str: The application form or an end message.\n",
    "    \"\"\"\n",
    "    global camp_details,all_applications\n",
    "    print(\"___________________\")\n",
    "    print(\"Thank you so much for signing up for our summer camp! We're thrilled to have you on board. Get ready for a fantastic time of fun and learning.\")\n",
    "    \n",
    "    parents_name = input(\"Could you provide the complete names of the parents?\")\n",
    "    parents_phone = input(\"Please provide the phone numbers of your parents \")\n",
    "    email = input(\"Almost done, What is your email?\")\n",
    "    kid_age = input(\"What is your kid age?\")\n",
    "    \n",
    "    # validate kid age\n",
    "    myprompt = f\"\"\"Verify the given age with policy of age range represented as dictionary, if the given age exists in any program answer valid or not valid.\n",
    "    Age: {kid_age}\n",
    "    Age policy: {camp_details['pricing']}\n",
    "    \"\"\"\n",
    "    age_validation = send_request(myprompt,temperature=0,max_tokens=None,parse=False,enhance=False)\n",
    "    #print(\"Age validation: \", age_validation)\n",
    "    if 'not' in str(age_validation).lower():\n",
    "        print(\"We inform the individual that their age is not considered valid, therefore, we do not have an appropriate program available for them right now.\")\n",
    "        return \"Provided Age is not valid. END OF FLOW\"\n",
    "    \n",
    "    final_app_form = application_form.copy()\n",
    "    final_app_form['parents_full_names'] = parents_name\n",
    "    final_app_form['parents_phone_number'] = parents_phone\n",
    "    final_app_form['email'] = email\n",
    "    final_app_form['kid_age'] = kid_age\n",
    "    \n",
    "    all_applications.append(final_app_form)\n",
    "    \n",
    "    return \"Registration has been successfully completed, You will receive an email with more details shortly. END OF FLOW\"\n",
    "\n",
    "def finish_process(text):\n",
    "    \"\"\"\n",
    "    Concludes the summer camp application process.\n",
    "\n",
    "    Args:\n",
    "        text (str): The closing text.\n",
    "\n",
    "    Returns:\n",
    "        str: The end message.\n",
    "    \"\"\"\n",
    "    print(\"Thank you for expressing your interest in joining the GenAI summer camp. We will be in contact with you shortly!\")\n",
    "    return \"End of flow\""
   ]
  },
  {
   "cell_type": "code",
   "execution_count": 8,
   "id": "a94e31ee",
   "metadata": {},
   "outputs": [],
   "source": [
    "# declaring llm and tools\n",
    "llm = OpenAI(temperature=0,openai_api_key=openai.api_key)\n",
    "tools = [\n",
    "    Tool.from_function(\n",
    "        func=answer_general_questions,\n",
    "        name=\"Answer general camp questions\",\n",
    "        description=\"useful when parents have general questions on GenAI summer camp or want more details\"\n",
    "    ),\n",
    "    Tool.from_function(\n",
    "        func=answer_pricing_age_questions,\n",
    "        name=\"Answer age or pricing camp questions\",\n",
    "        description=\"useful when parents have age or price questions on GenAI summer camp\"\n",
    "    ),\n",
    "    Tool.from_function(\n",
    "        func=answer_policies_location_questions,\n",
    "        name=\"Answer policies or location camp questions\",\n",
    "        description=\"useful when parents have policies questions, location questions or dates questions on GenAI summer camp\"\n",
    "    ),\n",
    "    Tool.from_function(\n",
    "        func=start_application,\n",
    "        name=\"Register application to GenAI summer camp\",\n",
    "        description=\"useful when kid or parents want to register to GenAI summer camp\"\n",
    "    ),\n",
    "    Tool.from_function(\n",
    "        func=finish_process,\n",
    "        name=\"After registeration to GenAI summer camp\",\n",
    "        description=\"useful when parent finish the registeration process\"\n",
    "    ),\n",
    "]"
   ]
  },
  {
   "cell_type": "code",
   "execution_count": 9,
   "id": "346ccf3f",
   "metadata": {},
   "outputs": [],
   "source": [
    "# setting up the agent\n",
    "agent = initialize_agent(\n",
    "    tools,\n",
    "   llm,\n",
    "    agent=AgentType.ZERO_SHOT_REACT_DESCRIPTION,\n",
    "    verbose=True,\n",
    ")"
   ]
  },
  {
   "cell_type": "markdown",
   "id": "9f6cf2c3",
   "metadata": {},
   "source": [
    "# Agent Test Scenarios"
   ]
  },
  {
   "cell_type": "code",
   "execution_count": 10,
   "id": "f5a11e04",
   "metadata": {},
   "outputs": [
    {
     "name": "stdout",
     "output_type": "stream",
     "text": [
      "\n",
      "\n",
      "\u001b[1m> Entering new AgentExecutor chain...\u001b[0m\n",
      "\u001b[32;1m\u001b[1;3m I need to provide parents with general camp details\n",
      "Action: Answer general camp questions\n",
      "Action Input: What my child will do in the summer camp?\u001b[0m\n",
      "Observation: \u001b[36;1m\u001b[1;3m\n",
      "Your child will have the opportunity to engage in interactive and dynamic AI workshops,\u001b[0m\n",
      "Thought:\u001b[32;1m\u001b[1;3m I now know the final answer\n",
      "Final Answer: Your child will have the opportunity to engage in interactive and dynamic AI workshops at our GenAI summer camp.\u001b[0m\n",
      "\n",
      "\u001b[1m> Finished chain.\u001b[0m\n"
     ]
    },
    {
     "data": {
      "text/plain": [
       "'Your child will have the opportunity to engage in interactive and dynamic AI workshops at our GenAI summer camp.'"
      ]
     },
     "execution_count": 10,
     "metadata": {},
     "output_type": "execute_result"
    }
   ],
   "source": [
    "agent.run(\"explain me what my child will do in the summer camp?\")"
   ]
  },
  {
   "cell_type": "code",
   "execution_count": 11,
   "id": "784186cf",
   "metadata": {},
   "outputs": [
    {
     "name": "stdout",
     "output_type": "stream",
     "text": [
      "\n",
      "\n",
      "\u001b[1m> Entering new AgentExecutor chain...\u001b[0m\n",
      "\u001b[32;1m\u001b[1;3m I should answer the question with the price information.\n",
      "Action: Answer age or pricing camp questions\n",
      "Action Input: Price\u001b[0m\n",
      "Observation: \u001b[33;1m\u001b[1;3m\n",
      "Answer: The early bird price for 5-7 years old is 700,\u001b[0m\n",
      "Thought:\u001b[32;1m\u001b[1;3m I now know the final answer\n",
      "Final Answer: The early bird price for 5-7 years old is 700.\u001b[0m\n",
      "\n",
      "\u001b[1m> Finished chain.\u001b[0m\n"
     ]
    },
    {
     "data": {
      "text/plain": [
       "'The early bird price for 5-7 years old is 700.'"
      ]
     },
     "execution_count": 11,
     "metadata": {},
     "output_type": "execute_result"
    }
   ],
   "source": [
    "agent.run(\"What is the price?\")"
   ]
  },
  {
   "cell_type": "code",
   "execution_count": 12,
   "id": "efb60e5d",
   "metadata": {},
   "outputs": [
    {
     "name": "stdout",
     "output_type": "stream",
     "text": [
      "\n",
      "\n",
      "\u001b[1m> Entering new AgentExecutor chain...\u001b[0m\n",
      "\u001b[32;1m\u001b[1;3m I need to look up the price based on age.\n",
      "Action: Answer age or pricing camp questions\n",
      "Action Input: I want to know the price for age 12\u001b[0m\n",
      "Observation: \u001b[33;1m\u001b[1;3m\n",
      "The price for age 12 is 1400 (early Bird Price).\u001b[0m\n",
      "Thought:\u001b[32;1m\u001b[1;3m I now know the final answer\n",
      "Final Answer: The price for age 12 is 1400 (early Bird Price).\u001b[0m\n",
      "\n",
      "\u001b[1m> Finished chain.\u001b[0m\n"
     ]
    },
    {
     "data": {
      "text/plain": [
       "'The price for age 12 is 1400 (early Bird Price).'"
      ]
     },
     "execution_count": 12,
     "metadata": {},
     "output_type": "execute_result"
    }
   ],
   "source": [
    "agent.run(\"What is the price for age 12?\")"
   ]
  },
  {
   "cell_type": "code",
   "execution_count": 13,
   "id": "69738710",
   "metadata": {},
   "outputs": [
    {
     "name": "stdout",
     "output_type": "stream",
     "text": [
      "\n",
      "\n",
      "\u001b[1m> Entering new AgentExecutor chain...\u001b[0m\n",
      "\u001b[32;1m\u001b[1;3m This is an age and pricing question.\n",
      "Action: Answer age or pricing camp questions\n",
      "Action Input: Age 8\u001b[0m\n",
      "Observation: \u001b[33;1m\u001b[1;3m\n",
      "The early bird price for 8-11 years old is 1000.\u001b[0m\n",
      "Thought:\u001b[32;1m\u001b[1;3m I now know the final answer.\n",
      "Final Answer: The early bird price for 8-11 years old is 1000.\u001b[0m\n",
      "\n",
      "\u001b[1m> Finished chain.\u001b[0m\n"
     ]
    },
    {
     "data": {
      "text/plain": [
       "'The early bird price for 8-11 years old is 1000.'"
      ]
     },
     "execution_count": 13,
     "metadata": {},
     "output_type": "execute_result"
    }
   ],
   "source": [
    "agent.run(\"What is the price for age 8?\")"
   ]
  },
  {
   "cell_type": "code",
   "execution_count": 14,
   "id": "989dddf3",
   "metadata": {},
   "outputs": [
    {
     "name": "stdout",
     "output_type": "stream",
     "text": [
      "\n",
      "\n",
      "\u001b[1m> Entering new AgentExecutor chain...\u001b[0m\n",
      "\u001b[32;1m\u001b[1;3m I need to provide reassurance about the camp\n",
      "Action: Answer general camp questions\n",
      "Action Input: Information on camp safety\u001b[0m\n",
      "Observation: \u001b[36;1m\u001b[1;3m\n",
      "Answer: Safety is our top priority, and we provide a nurturing and supportive\u001b[0m\n",
      "Thought:\u001b[32;1m\u001b[1;3m environment for all campers. We also have a team of trained professionals supporting our campers to ensure their safety, health and wellbeing at all times.\n",
      "Final Answer: Safety is our top priority, and we provide a nurturing and supportive environment for all campers. We also have a team of trained professionals supporting our campers to ensure their safety, health and wellbeing at all times.\u001b[0m\n",
      "\n",
      "\u001b[1m> Finished chain.\u001b[0m\n"
     ]
    },
    {
     "data": {
      "text/plain": [
       "'Safety is our top priority, and we provide a nurturing and supportive environment for all campers. We also have a team of trained professionals supporting our campers to ensure their safety, health and wellbeing at all times.'"
      ]
     },
     "execution_count": 14,
     "metadata": {},
     "output_type": "execute_result"
    }
   ],
   "source": [
    "agent.run(\"The summer camp is safe?\")"
   ]
  },
  {
   "cell_type": "code",
   "execution_count": 15,
   "id": "4d4125a1",
   "metadata": {},
   "outputs": [
    {
     "name": "stdout",
     "output_type": "stream",
     "text": [
      "\n",
      "\n",
      "\u001b[1m> Entering new AgentExecutor chain...\u001b[0m\n",
      "\u001b[32;1m\u001b[1;3m This question is general and about details that are not related to age, pricing, policies, locations or dates.\n",
      "Answer general camp questions is the action to take.\n",
      "Action: Answer general camp questions\n",
      "Action Input: None\u001b[0m\n",
      "Observation: \u001b[36;1m\u001b[1;3m\n",
      "GenAI Summer Camp is an exciting and educational adventure that offers a range of\u001b[0m\n",
      "Thought:\u001b[32;1m\u001b[1;3m meaningful activities. \n",
      "Action: None\n",
      "Final Answer: GenAI Summer Camp is an exciting and educational adventure that offers a range of meaningful activities.\u001b[0m\n",
      "\n",
      "\u001b[1m> Finished chain.\u001b[0m\n"
     ]
    },
    {
     "data": {
      "text/plain": [
       "'GenAI Summer Camp is an exciting and educational adventure that offers a range of meaningful activities.'"
      ]
     },
     "execution_count": 15,
     "metadata": {},
     "output_type": "execute_result"
    }
   ],
   "source": [
    "agent.run(\"Can I have more details?\")"
   ]
  },
  {
   "cell_type": "code",
   "execution_count": 16,
   "id": "7754e0d4",
   "metadata": {},
   "outputs": [
    {
     "name": "stdout",
     "output_type": "stream",
     "text": [
      "\n",
      "\n",
      "\u001b[1m> Entering new AgentExecutor chain...\u001b[0m\n",
      "\u001b[32;1m\u001b[1;3m How can I guide them through the registration process?\n",
      "Action: Register application to GenAI summer camp\n",
      "Action Input: Provide information on the registration form as needed.\n",
      "Action: After registeration to GenAI summer camp\n",
      "Action Input: Provide the confirmation of the registration\u001b[0m___________________\n",
      "Thank you so much for signing up for our summer camp! We're thrilled to have you on board. Get ready for a fantastic time of fun and learning.\n",
      "Could you provide the complete names of the parents?das asd \n",
      "Please provide the phone numbers of your parents dasd\n",
      "Almost done, What is your email?dsadas\n",
      "What is your kid age?40\n",
      "We inform the individual that their age is not considered valid, therefore, we do not have an appropriate program available for them right now.\n",
      "\n",
      "Observation: \u001b[36;1m\u001b[1;3mProvided Age is not valid. END OF FLOW\u001b[0m\n",
      "Thought:\u001b[32;1m\u001b[1;3m I should answer what age works\n",
      "Final Answer: The GenAI summer camp is recommended for kids between the ages of 7 and 11.\u001b[0m\n",
      "\n",
      "\u001b[1m> Finished chain.\u001b[0m\n"
     ]
    },
    {
     "data": {
      "text/plain": [
       "'The GenAI summer camp is recommended for kids between the ages of 7 and 11.'"
      ]
     },
     "execution_count": 16,
     "metadata": {},
     "output_type": "execute_result"
    }
   ],
   "source": [
    "# failing due age validation\n",
    "agent.run(\"I want to register\")"
   ]
  },
  {
   "cell_type": "code",
   "execution_count": 17,
   "id": "9decc0e4",
   "metadata": {},
   "outputs": [
    {
     "name": "stdout",
     "output_type": "stream",
     "text": [
      "\n",
      "\n",
      "\u001b[1m> Entering new AgentExecutor chain...\u001b[0m\n",
      "\u001b[32;1m\u001b[1;3m I need to understand what's needed for registration\n",
      "Action: Register application to GenAI summer camp\n",
      "Action Input: Provide contact info, age, and payment info\u001b[0m___________________\n",
      "Thank you so much for signing up for our summer camp! We're thrilled to have you on board. Get ready for a fantastic time of fun and learning.\n",
      "Could you provide the complete names of the parents?das\n",
      "Please provide the phone numbers of your parents a\n",
      "Almost done, What is your email?a\n",
      "What is your kid age?8\n",
      "\n",
      "Observation: \u001b[36;1m\u001b[1;3mRegistration has been successfully completed, You will receive an email with more details shortly. END OF FLOW\u001b[0m\n",
      "Thought:\u001b[32;1m\u001b[1;3m I now know the final answer\n",
      "Final Answer: You have successfully registered for the GenAI summer camp. You will receive an email with more details shortly.\u001b[0m\n",
      "\n",
      "\u001b[1m> Finished chain.\u001b[0m\n"
     ]
    },
    {
     "data": {
      "text/plain": [
       "'You have successfully registered for the GenAI summer camp. You will receive an email with more details shortly.'"
      ]
     },
     "execution_count": 17,
     "metadata": {},
     "output_type": "execute_result"
    }
   ],
   "source": [
    "agent.run(\"I want to register\")"
   ]
  },
  {
   "cell_type": "code",
   "execution_count": 18,
   "id": "c8e8917c",
   "metadata": {},
   "outputs": [
    {
     "name": "stdout",
     "output_type": "stream",
     "text": [
      "\n",
      "\n",
      "\u001b[1m> Entering new AgentExecutor chain...\u001b[0m\n",
      "\u001b[32;1m\u001b[1;3m I should determine what type of question this is.\n",
      "Action: Answer general camp questions\n",
      "Action Input: What my child would benefit from joining the GenAI camp?\u001b[0m\n",
      "Observation: \u001b[36;1m\u001b[1;3m\n",
      "Your child would benefit from joining GenAI Summer Camp by gaining hands-on\u001b[0m\n",
      "Thought:\u001b[32;1m\u001b[1;3m I now know the final answer\n",
      "Final Answer: Your child would benefit from joining GenAI Summer Camp by gaining hands-on experience with AI development, working on projects with industry professionals, and more.\u001b[0m\n",
      "\n",
      "\u001b[1m> Finished chain.\u001b[0m\n"
     ]
    },
    {
     "data": {
      "text/plain": [
       "'Your child would benefit from joining GenAI Summer Camp by gaining hands-on experience with AI development, working on projects with industry professionals, and more.'"
      ]
     },
     "execution_count": 18,
     "metadata": {},
     "output_type": "execute_result"
    }
   ],
   "source": [
    "agent.run(\"What my child would benefit from joining the GenAI camp?\")"
   ]
  },
  {
   "cell_type": "markdown",
   "id": "75e3698e",
   "metadata": {},
   "source": [
    "# Open Questions"
   ]
  },
  {
   "cell_type": "markdown",
   "id": "125a320a",
   "metadata": {},
   "source": [
    "1.\n",
    "\n",
    "* I would conduct further exploration of the hyperparameters API and deliberately select the appropriate ones for each scenario (temperature, top_p).\n",
    "\n",
    "* Enhancing the handling of exceptions is important. There might be instances where the response isn't in JSON format, leading to parsing errors. While my current approach involves resending the data in case of an exception, alternative strategies could be considered.\n",
    "\n",
    "* I would explore strategies to maximize the number of words in each camp detail.\n",
    "\n",
    "* Tailoring the choice of models to specific tasks.\n",
    "\n",
    "* Consider summarizing summer camp details in certain situations.\n",
    "\n",
    "* Optimize memory usage within the agent.\n",
    "\n",
    "* Addressing the challenges posed by a larger context window is vital.\n",
    "\n",
    "* Create and explore prompts in more stable way such as prompt template object from langchain.\n",
    "\n",
    "* Create this application as a service outside jupyter notebook.\n",
    "\n",
    "* Dealing with End Of Flow scenarios better.\n",
    "\n",
    "\n",
    "2.\n",
    "\n",
    "* Evaluate the model's performance across different usage scenarios, including tasks such as addressing registration-related queries and providing detailed information about camp activities. This assessment will help identify strengths and weaknesses in the model's response generation for various prompts.\n",
    "\n",
    "* Construct specific scenarios that might pose challenges to the model, such as prompts with ambiguity or complex context and assess its performance under these conditions.\n",
    "\n",
    "* Experiment with a wider range of LLM models during testing.\n",
    "\n",
    "* Utilize GPT to formulate improved prompts and then compare the resulting outcomes to establish effectiveness.\n",
    "\n",
    "* Create validation tests on the output (check returned keys, length).\n",
    "\n",
    "\n",
    "3.\n",
    "\n",
    "* There are cases where the format of the returned data may differ from JSON standards which can impact its reliability.\n",
    "\n",
    "* Although the responses contain correct information, there are instances where they do not quite meet the level of excellence desired. Exploring various potential responses and making adjustments to hyperparameter values might bring about enhancements.\n",
    "\n",
    "* Encountering challenges related to the broader context window (constrained by GPT-3's 4097 token limit) can result in exceptions.\n",
    "\n",
    "* Attaining a cumulative word count of 5,000 words during camp generation presents a significant challenge.\n",
    "\n",
    "* The conclusion of the registration process sometimes not ending properly."
   ]
  }
 ],
 "metadata": {
  "kernelspec": {
   "display_name": "aviv",
   "language": "python",
   "name": "aviv"
  },
  "language_info": {
   "codemirror_mode": {
    "name": "ipython",
    "version": 3
   },
   "file_extension": ".py",
   "mimetype": "text/x-python",
   "name": "python",
   "nbconvert_exporter": "python",
   "pygments_lexer": "ipython3",
   "version": "3.9.13"
  }
 },
 "nbformat": 4,
 "nbformat_minor": 5
}
